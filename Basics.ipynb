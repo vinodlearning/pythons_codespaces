{
 "cells": [
  {
   "cell_type": "code",
   "execution_count": 26,
   "metadata": {},
   "outputs": [
    {
     "name": "stdout",
     "output_type": "stream",
     "text": [
      "Hello Wolrd\n",
      "30\n"
     ]
    }
   ],
   "source": [
    "print(\"Hello Wolrd\");\n",
    "\n",
    "x=10;y=20;z=x+y;\n",
    "print(z)"
   ]
  },
  {
   "cell_type": "markdown",
   "metadata": {},
   "source": [
    "Semantics"
   ]
  },
  {
   "cell_type": "code",
   "execution_count": 27,
   "metadata": {},
   "outputs": [
    {
     "name": "stdout",
     "output_type": "stream",
     "text": [
      "32\n",
      "Kris\n"
     ]
    }
   ],
   "source": [
    "##Variable Assignments\n",
    "age=32\n",
    "name=\"Kris\"\n",
    "##kernel will understand the data type in runtime\n",
    "print(age)\n",
    "print(name)\n"
   ]
  },
  {
   "cell_type": "markdown",
   "metadata": {},
   "source": [
    "Type Inference"
   ]
  },
  {
   "cell_type": "code",
   "execution_count": 28,
   "metadata": {},
   "outputs": [
    {
     "name": "stdout",
     "output_type": "stream",
     "text": [
      "<class 'int'>\n"
     ]
    }
   ],
   "source": [
    "type(age)\n",
    "##age=\"vinod\"\n",
    "print(type(age))\n",
    "if(age>32):\n",
    "    print(age)"
   ]
  },
  {
   "cell_type": "code",
   "execution_count": 29,
   "metadata": {},
   "outputs": [
    {
     "name": "stdout",
     "output_type": "stream",
     "text": [
      "Correct Indendation-->\n",
      "if print\n",
      "gg\n"
     ]
    }
   ],
   "source": [
    "## Code examples of Indentation\n",
    "if True:\n",
    "    print(\"Correct Indendation-->\");\n",
    "    if False:\n",
    "        print(\"This is print\")\n",
    "    print(\"if print\")\n",
    "print(\"gg\")"
   ]
  },
  {
   "cell_type": "code",
   "execution_count": 30,
   "metadata": {},
   "outputs": [
    {
     "name": "stdout",
     "output_type": "stream",
     "text": [
      "age : 32\n",
      "Heaight : 6.1\n",
      "name : Krish\n"
     ]
    }
   ],
   "source": [
    "## Declare and assigning variables\n",
    "age=32\n",
    "height=6.1\n",
    "name=\"Krish\"\n",
    "is_student=True\n",
    "\n",
    "## Printing the variables.\n",
    "\n",
    "print(\"age :\",age)\n",
    "print(\"Heaight :\",height)\n",
    "print(\"name :\",name)\n"
   ]
  },
  {
   "cell_type": "code",
   "execution_count": 31,
   "metadata": {},
   "outputs": [],
   "source": [
    "## Naming Convestions\n",
    "## Variables--> Should be descriptive, they must start with letter or underscore and letters and numbers\n",
    "## variable names of case sensitives\n",
    "first_name=\"Krishn\"\n",
    "_lastName=\"Dev\"\n",
    "\n"
   ]
  },
  {
   "cell_type": "code",
   "execution_count": 32,
   "metadata": {},
   "outputs": [
    {
     "name": "stdout",
     "output_type": "stream",
     "text": [
      "<class 'float'>\n"
     ]
    }
   ],
   "source": [
    "## Understanding of Variable types\n",
    "##Python is dynamically types, type if varibale is determined at runtime.\n",
    "\n",
    "age=25\n",
    "height=11.2\n",
    "name=\"krishn\"\n",
    "is_student=True\n",
    "print(type(height))"
   ]
  },
  {
   "cell_type": "code",
   "execution_count": 36,
   "metadata": {},
   "outputs": [
    {
     "data": {
      "text/plain": [
       "bool"
      ]
     },
     "execution_count": 36,
     "metadata": {},
     "output_type": "execute_result"
    }
   ],
   "source": [
    "##Type checking and conversions\n",
    "type(height)## Float\n",
    "type(str(height))# str\n",
    "age='23'\n",
    "type(age)\n",
    "type(int(age))\n",
    "type(is_student)\n"
   ]
  },
  {
   "cell_type": "code",
   "execution_count": null,
   "metadata": {},
   "outputs": [
    {
     "name": "stdout",
     "output_type": "stream",
     "text": [
      "10 <class 'int'>\n",
      "vinod <class 'str'>\n",
      "12.3 <class 'float'>\n",
      "1987\n"
     ]
    }
   ],
   "source": [
    "##Dynmic typing\n",
    "##python allows the type of a variable as the program executes\n",
    "\n",
    "var=10\n",
    "print(var,type(var))\n",
    "var=\"vinod\"\n",
    "print(var,type(var))\n",
    "var=12.3\n",
    "print(var,type(var))\n",
    "\n",
    "##Input\n",
    "age=input(\"what is your age-->\")\n",
    "print(2024-int(age))## usually the input comes as str format"
   ]
  },
  {
   "cell_type": "code",
   "execution_count": 43,
   "metadata": {},
   "outputs": [
    {
     "name": "stdout",
     "output_type": "stream",
     "text": [
      "Sum--> 90.0\n",
      "Difference--> 60.0\n",
      "Product--> 1125.0\n",
      "Quotient--> 5.0\n"
     ]
    }
   ],
   "source": [
    "## Simple calculator\n",
    "num1=float(input(\"Enter first numebr: \"))\n",
    "num2=float(input(\"Enter second numebr: \"))\n",
    "sum=num1+num2\n",
    "difference=num1-num2\n",
    "product=num1*num2;\n",
    "quotient=num1/num2;\n",
    "print(\"Sum-->\",sum)\n",
    "print(\"Difference-->\",difference)\n",
    "print(\"Product-->\",product)\n",
    "print(\"Quotient-->\",quotient)\n"
   ]
  }
 ],
 "metadata": {
  "kernelspec": {
   "display_name": "Python 3",
   "language": "python",
   "name": "python3"
  },
  "language_info": {
   "codemirror_mode": {
    "name": "ipython",
    "version": 3
   },
   "file_extension": ".py",
   "mimetype": "text/x-python",
   "name": "python",
   "nbconvert_exporter": "python",
   "pygments_lexer": "ipython3",
   "version": "3.12.1"
  }
 },
 "nbformat": 4,
 "nbformat_minor": 2
}
