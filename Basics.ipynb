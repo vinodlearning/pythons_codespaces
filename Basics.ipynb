{
 "cells": [
  {
   "cell_type": "code",
   "execution_count": 7,
   "metadata": {},
   "outputs": [
    {
     "name": "stdout",
     "output_type": "stream",
     "text": [
      "Hello Wolrd\n",
      "30\n"
     ]
    }
   ],
   "source": [
    "print(\"Hello Wolrd\");\n",
    "\n",
    "x=10;y=20;z=x+y;\n",
    "print(z)"
   ]
  },
  {
   "cell_type": "markdown",
   "metadata": {},
   "source": [
    "Semantics"
   ]
  },
  {
   "cell_type": "code",
   "execution_count": 8,
   "metadata": {},
   "outputs": [
    {
     "name": "stdout",
     "output_type": "stream",
     "text": [
      "32\n",
      "Kris\n"
     ]
    }
   ],
   "source": [
    "##Variable Assignments\n",
    "age=32\n",
    "name=\"Kris\"\n",
    "##kernel will understand the data type in runtime\n",
    "print(age)\n",
    "print(name)\n"
   ]
  },
  {
   "cell_type": "markdown",
   "metadata": {},
   "source": [
    "Type Inference"
   ]
  },
  {
   "cell_type": "code",
   "execution_count": 9,
   "metadata": {},
   "outputs": [
    {
     "name": "stdout",
     "output_type": "stream",
     "text": [
      "<class 'int'>\n"
     ]
    }
   ],
   "source": [
    "type(age)\n",
    "##age=\"vinod\"\n",
    "print(type(age))\n",
    "if(age>32):\n",
    "    print(age)"
   ]
  },
  {
   "cell_type": "code",
   "execution_count": 10,
   "metadata": {},
   "outputs": [
    {
     "name": "stdout",
     "output_type": "stream",
     "text": [
      "Correct Indendation-->\n",
      "if print\n",
      "gg\n"
     ]
    }
   ],
   "source": [
    "## Code examples of Indentation\n",
    "if True:\n",
    "    print(\"Correct Indendation-->\");\n",
    "    if False:\n",
    "        print(\"This is print\")\n",
    "    print(\"if print\")\n",
    "print(\"gg\")"
   ]
  },
  {
   "cell_type": "code",
   "execution_count": 11,
   "metadata": {},
   "outputs": [
    {
     "name": "stdout",
     "output_type": "stream",
     "text": [
      "age : 32\n",
      "Heaight : 6.1\n",
      "name : Krish\n"
     ]
    }
   ],
   "source": [
    "## Declare and assigning variables\n",
    "age=32\n",
    "height=6.1\n",
    "name=\"Krish\"\n",
    "is_student=True\n",
    "\n",
    "## Printing the variables.\n",
    "\n",
    "print(\"age :\",age)\n",
    "print(\"Heaight :\",height)\n",
    "print(\"name :\",name)\n"
   ]
  },
  {
   "cell_type": "code",
   "execution_count": 12,
   "metadata": {},
   "outputs": [],
   "source": [
    "## Naming Convestions\n",
    "## Variables--> Should be descriptive, they must start with letter or underscore and letters and numbers\n",
    "## variable names of case sensitives\n",
    "first_name=\"Krishn\"\n",
    "_lastName=\"Dev\"\n",
    "\n"
   ]
  },
  {
   "cell_type": "code",
   "execution_count": 13,
   "metadata": {},
   "outputs": [
    {
     "name": "stdout",
     "output_type": "stream",
     "text": [
      "<class 'float'>\n"
     ]
    }
   ],
   "source": [
    "## Understanding of Variable types\n",
    "##Python is dynamically types, type if varibale is determined at runtime.\n",
    "\n",
    "age=25\n",
    "height=11.2\n",
    "name=\"krishn\"\n",
    "is_student=True\n",
    "print(type(height))"
   ]
  },
  {
   "cell_type": "code",
   "execution_count": 14,
   "metadata": {},
   "outputs": [
    {
     "data": {
      "text/plain": [
       "bool"
      ]
     },
     "execution_count": 14,
     "metadata": {},
     "output_type": "execute_result"
    }
   ],
   "source": [
    "##Type checking and conversions\n",
    "type(height)## Float\n",
    "type(str(height))# str\n",
    "age='23'\n",
    "type(age)\n",
    "type(int(age))\n",
    "type(is_student)\n"
   ]
  },
  {
   "cell_type": "code",
   "execution_count": null,
   "metadata": {},
   "outputs": [
    {
     "name": "stdout",
     "output_type": "stream",
     "text": [
      "10 <class 'int'>\n",
      "vinod <class 'str'>\n",
      "12.3 <class 'float'>\n"
     ]
    },
    {
     "ename": "ValueError",
     "evalue": "invalid literal for int() with base 10: ''",
     "output_type": "error",
     "traceback": [
      "\u001b[0;31m---------------------------------------------------------------------------\u001b[0m",
      "\u001b[0;31mValueError\u001b[0m                                Traceback (most recent call last)",
      "Cell \u001b[0;32mIn[15], line 13\u001b[0m\n\u001b[1;32m     11\u001b[0m \u001b[38;5;66;03m##Input\u001b[39;00m\n\u001b[1;32m     12\u001b[0m age\u001b[38;5;241m=\u001b[39m\u001b[38;5;28minput\u001b[39m(\u001b[38;5;124m\"\u001b[39m\u001b[38;5;124mwhat is your age-->\u001b[39m\u001b[38;5;124m\"\u001b[39m)\n\u001b[0;32m---> 13\u001b[0m \u001b[38;5;28mprint\u001b[39m(\u001b[38;5;241m2024\u001b[39m\u001b[38;5;241m-\u001b[39m\u001b[38;5;28;43mint\u001b[39;49m\u001b[43m(\u001b[49m\u001b[43mage\u001b[49m\u001b[43m)\u001b[49m)\u001b[38;5;66;03m## usually the input comes as str format\u001b[39;00m\n",
      "\u001b[0;31mValueError\u001b[0m: invalid literal for int() with base 10: ''"
     ]
    }
   ],
   "source": [
    "##Dynmic typing\n",
    "##python allows the type of a variable as the program executes\n",
    "\n",
    "var=10\n",
    "print(var,type(var))\n",
    "var=\"vinod\"\n",
    "print(var,type(var))\n",
    "var=12.3\n",
    "print(var,type(var))\n",
    "\n",
    "##Input\n",
    "age=input(\"what is your age-->\")\n",
    "print(2024-int(age))## usually the input comes as str format"
   ]
  },
  {
   "cell_type": "code",
   "execution_count": null,
   "metadata": {},
   "outputs": [
    {
     "name": "stdout",
     "output_type": "stream",
     "text": [
      "Sum--> 90.0\n",
      "Difference--> 60.0\n",
      "Product--> 1125.0\n",
      "Quotient--> 5.0\n"
     ]
    }
   ],
   "source": [
    "## Simple calculator\n",
    "num1=float(input(\"Enter first numebr: \"))\n",
    "num2=float(input(\"Enter second numebr: \"))\n",
    "sum=num1+num2\n",
    "difference=num1-num2\n",
    "product=num1*num2;\n",
    "quotient=num1/num2;\n",
    "print(\"Sum-->\",sum)\n",
    "print(\"Difference-->\",difference)\n",
    "print(\"Product-->\",product)\n",
    "print(\"Quotient-->\",quotient)\n"
   ]
  },
  {
   "cell_type": "code",
   "execution_count": null,
   "metadata": {},
   "outputs": [
    {
     "name": "stdout",
     "output_type": "stream",
     "text": [
      "HELLO \n"
     ]
    }
   ],
   "source": [
    "## Data Types==\n",
    "##Intergersn Examples\n",
    "age=25\n",
    "type(age)\n",
    "bool()\n",
    "\n",
    "\n",
    "## Common errors\n",
    "result=\"Hello \"\n",
    "print(result.upper())"
   ]
  },
  {
   "cell_type": "code",
   "execution_count": null,
   "metadata": {},
   "outputs": [
    {
     "name": "stdout",
     "output_type": "stream",
     "text": [
      "15\n",
      "5\n",
      "50\n",
      "2.0\n",
      "2\n",
      "0\n",
      "100000\n"
     ]
    }
   ],
   "source": [
    "## Operators\n",
    "\n",
    "a=10\n",
    "b=5\n",
    "\n",
    "\n",
    "add_result=a+b\n",
    "sub_result=a-b\n",
    "mult_result=a*b\n",
    "div_result=a/b ## Division Operation\n",
    "floor_div_result=a//b##Floor division\n",
    "modulus_result=a%b ## Modulus operation\n",
    "exponent_result=a**b## Exponentiation\n",
    "\n",
    "\n",
    "print(add_result);\n",
    "print(sub_result);\n",
    "print(mult_result);\n",
    "print(div_result);\n",
    "print(floor_div_result);\n",
    "print(modulus_result);\n",
    "print(exponent_result);\n",
    "\n"
   ]
  },
  {
   "cell_type": "code",
   "execution_count": null,
   "metadata": {},
   "outputs": [
    {
     "data": {
      "text/plain": [
       "True"
      ]
     },
     "execution_count": 5,
     "metadata": {},
     "output_type": "execute_result"
    }
   ],
   "source": []
  },
  {
   "cell_type": "code",
   "execution_count": 18,
   "metadata": {},
   "outputs": [
    {
     "name": "stdout",
     "output_type": "stream",
     "text": [
      "True\n"
     ]
    }
   ],
   "source": [
    "## Comparison Operator \n",
    "\n",
    "a=10\n",
    "b=10\n",
    "\n",
    "a==b\n",
    "\n",
    "str1=\"Krish\"\n",
    "str2=\"KriSh\"\n",
    "\n",
    "X=False\n",
    "not X\n",
    "print(not X)\n"
   ]
  },
  {
   "cell_type": "code",
   "execution_count": 29,
   "metadata": {},
   "outputs": [
    {
     "name": "stdout",
     "output_type": "stream",
     "text": [
      "allowed-->\n",
      "you are a minor\n",
      "you are an adult\n",
      "the number is negitive\n"
     ]
    }
   ],
   "source": [
    "##If statement\n",
    "\n",
    "age=20\n",
    "\n",
    "if age>=20:\n",
    "    print(\"allowed-->\")\n",
    "## Else\n",
    "\n",
    "\n",
    "age =16\n",
    "\n",
    "if age>=18:\n",
    "    print(\"ypu are elgible for vote\")\n",
    "else:\n",
    "    print(\"you are a minor\")\n",
    " \n",
    "\n",
    "\n",
    "##elif ==> else if allows to check mutliple conditions\n",
    "\n",
    "age=int(input(\"enter your age\"))\n",
    "if age<13:\n",
    "    print(\"you are a child-->\")\n",
    "elif age<18:\n",
    "    print(\"you are a tenager -->\")\n",
    "else: \n",
    "    print(\"you are an adult\")\n",
    "\n",
    "\n",
    "## Nested conditional statments\n",
    "## You can place one or more elif or if statmenbts in if or elif or else statements\n",
    "\n",
    "## number even or odd or negitive\n",
    "\n",
    "num=int(input(\"enter the number\"))\n",
    " \n",
    "if num>=0:\n",
    "    print(\"The numebr is positive \")\n",
    "    if num%2==0:\n",
    "        print(\"The number is even\")\n",
    "    else:\n",
    "        print(\"The number is Odd number\")\n",
    "else:\n",
    "    print(\"the number is negitive\")\n",
    "\n",
    "\n"
   ]
  },
  {
   "cell_type": "code",
   "execution_count": 32,
   "metadata": {},
   "outputs": [
    {
     "name": "stdout",
     "output_type": "stream",
     "text": [
      "It's not an  leap year\n"
     ]
    }
   ],
   "source": [
    "## Practical Examples\n",
    "## determine , if a year is leap or not using nesteed \n",
    "\n",
    "## logic if a year divisable by 400 and should not be divisaible by 100 and divisible by 4then leap year\n",
    "\n",
    "input_year=int(input(\"please enter the  year\"))\n",
    "\n",
    "if input_year%400==0:\n",
    "    print(\"It's a leap year\")\n",
    "elif input_year%4==0 and input_year%100!=0:\n",
    "    print(\"It's a leap year\")\n",
    "else:\n",
    "    print(\"It's not an  leap year\")\n"
   ]
  },
  {
   "cell_type": "code",
   "execution_count": 2,
   "metadata": {},
   "outputs": [
    {
     "name": "stdout",
     "output_type": "stream",
     "text": [
      "5.0\n"
     ]
    }
   ],
   "source": [
    "##SImple Calculator\n",
    "\n",
    "num1=int(input(\"Please enter the first number\"))\n",
    "num2=int(input(\"enter the second number\"))\n",
    "operation=str(input(\"Please select the operation + , -, *, / or %\"))\n",
    "\n",
    "if operation=='+':\n",
    "    print(num1+num2)\n",
    "elif operation=='-':\n",
    "    print(num1-num2)\n",
    "elif operation=='*':\n",
    "    print(num1*num2)\n",
    "elif operation=='/':\n",
    "    print(num1/num2)\n",
    "elif operation=='%':\n",
    "    print(num1%num2)\n",
    "else:\n",
    "    print(\"Please select a valid operator\")"
   ]
  },
  {
   "cell_type": "code",
   "execution_count": null,
   "metadata": {},
   "outputs": [],
   "source": [
    "\n"
   ]
  }
 ],
 "metadata": {
  "kernelspec": {
   "display_name": "Python 3",
   "language": "python",
   "name": "python3"
  },
  "language_info": {
   "codemirror_mode": {
    "name": "ipython",
    "version": 3
   },
   "file_extension": ".py",
   "mimetype": "text/x-python",
   "name": "python",
   "nbconvert_exporter": "python",
   "pygments_lexer": "ipython3",
   "version": "3.12.1"
  }
 },
 "nbformat": 4,
 "nbformat_minor": 2
}
